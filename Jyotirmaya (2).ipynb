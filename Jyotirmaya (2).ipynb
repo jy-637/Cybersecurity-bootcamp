{
  "nbformat": 4,
  "nbformat_minor": 0,
  "metadata": {
    "colab": {
      "name": "Jyotirmaya.ipynb",
      "provenance": [],
      "collapsed_sections": []
    },
    "kernelspec": {
      "name": "python3",
      "display_name": "Python 3"
    },
    "language_info": {
      "name": "python"
    }
  },
  "cells": [
    {
      "cell_type": "code",
      "metadata": {
        "colab": {
          "base_uri": "https://localhost:8080/"
        },
        "id": "JegsjFDst31t",
        "outputId": "10c92ada-ddf3-4971-cef0-5f9206c6aaf1"
      },
      "source": [
        "import requests\n",
        "from datetime import datetime \n",
        "\n",
        "api_key = '455a3faa47caccb43849cfbb1d009a7b'\n",
        "location = input(\"Enter the city name: \")\n",
        "\n",
        "complete_api_link = \"https://api.openweathermap.org/data/2.5/weather?q=\"+location+\"&appid=\"+api_key\n",
        "api_link = requests.get(complete_api_link)\n",
        "api_data = api_link.json()\n",
        "\n",
        "\n",
        "temp_city = ((api_data['main']['temp']) - 273.15)\n",
        "weather_desc = api_data['weather'][0]['description']\n",
        "hmdt = api_data['main']['humidity']\n",
        "wind_spd = api_data['wind']['speed']\n",
        "date_time = datetime.now().strftime(\"%d %b %Y | %I:%M:%S %p\")\n",
        "\n",
        "print(\"---------------------------------------------------------\")\n",
        "print(\"Weather stats for - {}  || {}\".format(location.upper(),date_time))\n",
        "print(\"---------------------------------------------------------\")\n",
        "\n",
        "print(\"Current temperature is: {:.2f} deg C\".format(temp_city))\n",
        "print(\"Current weather desc :\",weather_desc)\n",
        "print(\"Current Humidity      :\" ,hmdt, '%')\n",
        "print(\"Current wind speed    :\",wind_spd ,'kmph')"
      ],
      "execution_count": 2,
      "outputs": [
        {
          "output_type": "stream",
          "text": [
            "Enter the city name: Delhi\n",
            "---------------------------------------------------------\n",
            "Weather stats for - DELHI  || 22 Jun 2021 | 03:58:22 AM\n",
            "---------------------------------------------------------\n",
            "Current temperature is: 34.05 deg C\n",
            "Current weather desc : haze\n",
            "Current Humidity      : 55 %\n",
            "Current wind speed    : 3.09 kmph\n"
          ],
          "name": "stdout"
        }
      ]
    }
  ]
}